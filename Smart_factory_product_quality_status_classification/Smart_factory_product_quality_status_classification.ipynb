{
  "nbformat": 4,
  "nbformat_minor": 0,
  "metadata": {
    "colab": {
      "provenance": [],
      "authorship_tag": "ABX9TyOoC6EYqyiY9VPMAjE4nK76",
      "include_colab_link": true
    },
    "kernelspec": {
      "name": "python3",
      "display_name": "Python 3"
    },
    "language_info": {
      "name": "python"
    },
    "gpuClass": "standard"
  },
  "cells": [
    {
      "cell_type": "markdown",
      "metadata": {
        "id": "view-in-github",
        "colab_type": "text"
      },
      "source": [
        "<a href=\"https://colab.research.google.com/github/KimDongHyun0907/LG_Aimers_Hackathon/blob/main/Smart_factory_product_quality_status_classification.ipynb\" target=\"_parent\"><img src=\"https://colab.research.google.com/assets/colab-badge.svg\" alt=\"Open In Colab\"/></a>"
      ]
    },
    {
      "cell_type": "code",
      "execution_count": null,
      "metadata": {
        "id": "dPNqZAOGlsxu",
        "colab": {
          "base_uri": "https://localhost:8080/"
        },
        "outputId": "902ee969-59b3-4a68-a1f6-473217d577a5"
      },
      "outputs": [
        {
          "output_type": "stream",
          "name": "stdout",
          "text": [
            "Mounted at /content/drive\n"
          ]
        }
      ],
      "source": [
        "import pandas as pd\n",
        "import random\n",
        "import os\n",
        "import numpy as np\n",
        "\n",
        "from sklearn.preprocessing import LabelEncoder\n",
        "from sklearn.ensemble import RandomForestClassifier\n",
        "from sklearn.metrics import accuracy_score\n",
        "\n",
        "def seed_everything(seed):\n",
        "    random.seed(seed)\n",
        "    os.environ['PYTHONHASHSEED'] = str(seed)\n",
        "    np.random.seed(seed)\n",
        "seed_everything(37) # Seed 고정\n",
        "\n",
        "from google.colab import drive\n",
        "drive.mount('/content/drive')\n",
        "\n",
        "!unzip -qq \"/content/drive/MyDrive/open.zip\""
      ]
    },
    {
      "cell_type": "code",
      "source": [
        "train_df = pd.read_csv('./train.csv')\n",
        "test_df = pd.read_csv('./test.csv')\n",
        "\n",
        "train_x = train_df.drop(columns=['PRODUCT_ID', 'TIMESTAMP', 'Y_Class', 'Y_Quality'])\n",
        "train_y = train_df['Y_Class']\n",
        "\n",
        "test_x = test_df.drop(columns=['PRODUCT_ID', 'TIMESTAMP'])\n",
        "\n",
        "train_x = train_x.fillna(0)\n",
        "test_x = test_x.fillna(0)"
      ],
      "metadata": {
        "id": "uhW1VJcyyCvo"
      },
      "execution_count": null,
      "outputs": []
    },
    {
      "cell_type": "code",
      "source": [
        "# qualitative to quantitative\n",
        "qual_col = ['LINE', 'PRODUCT_CODE']\n",
        "\n",
        "for i in qual_col:\n",
        "    le = LabelEncoder()\n",
        "    le = le.fit(train_x[i])\n",
        "    train_x[i] = le.transform(train_x[i])\n",
        "\n",
        "    for label in np.unique(test_x[i]):\n",
        "        if label not in le.classes_:\n",
        "            le.classes_ = np.append(le.classes_, label)\n",
        "    test_x[i] = le.transform(test_x[i])\n",
        "\n"
      ],
      "metadata": {
        "id": "6bbH1sIVoaRT"
      },
      "execution_count": null,
      "outputs": []
    },
    {
      "cell_type": "code",
      "source": [
        "import lightgbm as lgb\n",
        "\n",
        "param = {'num_leaves':10, 'objective':'binary','metric':'binary_logloss',\n",
        "         'boosting_type':'dart','learning_rate':0.01}\n",
        "\n",
        "train_data=lgb.Dataset(train_x,label=train_y.values)\n",
        "#num_round=100\n",
        "num_round=1000\n",
        "bst=lgb.train(param,train_data, num_round)\n",
        "preds=bst.predict(test_x)\n",
        "\n",
        "preds"
      ],
      "metadata": {
        "id": "OiPpETFOuZcP"
      },
      "execution_count": null,
      "outputs": []
    },
    {
      "cell_type": "code",
      "source": [
        "from lightgbm import LGBMClassifier\n",
        "lgbm_wrapper=LGBMClassifier(n_estimators=2000,learning_rate=0.01,boosting_type='dart',num_leaves=100,max_depth=7)\n",
        "lgbm_wrapper.fit(train_x,train_y,eval_metric='logloss', verbose=True)\n",
        "preds=lgbm_wrapper.predict(test_x)"
      ],
      "metadata": {
        "id": "tKhQCyejobc5"
      },
      "execution_count": null,
      "outputs": []
    },
    {
      "cell_type": "code",
      "source": [
        "preds"
      ],
      "metadata": {
        "id": "j0rb-o2F3g_e"
      },
      "execution_count": null,
      "outputs": []
    },
    {
      "cell_type": "code",
      "source": [
        "preds_sort=sorted(preds)"
      ],
      "metadata": {
        "id": "3_bIxDu8fRyI"
      },
      "execution_count": null,
      "outputs": []
    },
    {
      "cell_type": "code",
      "source": [
        "preds_sort"
      ],
      "metadata": {
        "id": "vbiHkKHGV14_"
      },
      "execution_count": null,
      "outputs": []
    },
    {
      "cell_type": "code",
      "source": [
        "preds_sort[300:]"
      ],
      "metadata": {
        "id": "MSwxrEzXa8-6"
      },
      "execution_count": null,
      "outputs": []
    },
    {
      "cell_type": "code",
      "source": [
        "preds_sort2=[]\n",
        "for i in range(len(preds_sort)-1):\n",
        "  preds_sort2.append((preds_sort[i+1]-preds_sort[i],preds_sort[i+1],preds_sort[i]))\n",
        "\n",
        "preds_sort2.sort()"
      ],
      "metadata": {
        "id": "XwqgfI_HWKgd"
      },
      "execution_count": null,
      "outputs": []
    },
    {
      "cell_type": "code",
      "source": [
        "preds_sort2"
      ],
      "metadata": {
        "id": "pEynMLXuW0A4"
      },
      "execution_count": null,
      "outputs": []
    },
    {
      "cell_type": "code",
      "source": [
        "def labeling(x):\n",
        "  if x<0.73: return 0\n",
        "  elif x>0.803: return 2\n",
        "  else: return 1\n",
        "\n",
        "preds1=pd.Series(preds).apply(labeling)\n",
        "preds1"
      ],
      "metadata": {
        "id": "VYpsqQDy4cGd"
      },
      "execution_count": null,
      "outputs": []
    },
    {
      "cell_type": "code",
      "source": [
        "submit = pd.read_csv('./sample_submission.csv')\n",
        "submit['Y_Class'] = preds\n",
        "submit.to_csv('./baseline_submission.csv', index=False)\n",
        "submit"
      ],
      "metadata": {
        "id": "Kxb8CWVLojkE"
      },
      "execution_count": null,
      "outputs": []
    },
    {
      "cell_type": "markdown",
      "source": [
        "0.7 미만 0\n",
        "\n",
        "0.8 초과 2\n",
        "\n",
        "0.6011904762\n",
        "\n",
        "====================\n",
        "\n",
        "0.6 미만 0\n",
        "\n",
        "0.8 초과 2\n",
        "\n",
        "0.5699308986\n",
        "\n",
        "====================\n",
        "\n",
        "0.73 미만 0\n",
        "\n",
        "0.8 초과 2\n",
        "\n",
        "0.6103684211\n",
        "\n",
        "====================\n",
        "\n",
        "0.74 미만 0\n",
        "\n",
        "0.8 초과 2\n",
        "\n",
        "0.60011598\n",
        "\n",
        "====================\n",
        "\n",
        "0.73 미만 0\n",
        "\n",
        "0.791 초과 2\n",
        "\n",
        "0.5705877943\n",
        "\n",
        "====================\n",
        "\n",
        "0.73 미만 0\n",
        "\n",
        "0.803 초과 2\n",
        "\n",
        "0.6170347128\n",
        "\n",
        "====================\n",
        "\n",
        "0.738 미만 0\n",
        "\n",
        "0.803 초과 2\n",
        "\n",
        "0.6068054883\n",
        "\n",
        "====================\n",
        "\n",
        "====================\n",
        "\n",
        "0.8 미만 0\n",
        "\n",
        "0.967 초과 2\n",
        "\n",
        "0.5532377227\n",
        "\n",
        "====================\n",
        "\n",
        "0.88 미만 0\n",
        "\n",
        "0.967 초과 2\n",
        "\n",
        "0.5235279626\n",
        "\n",
        "====================\n",
        "\n",
        "0.82 미만 0\n",
        "\n",
        "0.967 초과 2\n",
        "\n",
        "0.5532377227\n",
        "\n",
        "====================\n",
        "\n",
        "0.83 미만 0\n",
        "\n",
        "0.967 초과 2\n",
        "\n",
        "0.5383367486\n",
        "\n",
        "===================="
      ],
      "metadata": {
        "id": "PaoNMDuSDHE3"
      }
    }
  ]
}
